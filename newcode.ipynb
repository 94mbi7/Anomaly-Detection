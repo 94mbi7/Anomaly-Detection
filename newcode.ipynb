{
 "cells": [
  {
   "cell_type": "code",
   "execution_count": 1,
   "metadata": {},
   "outputs": [],
   "source": [
    "import numpy as np"
   ]
  },
  {
   "cell_type": "code",
   "execution_count": 2,
   "metadata": {},
   "outputs": [],
   "source": [
    "import tensorflow as tf\n",
    "import os\n",
    "import cv2\n",
    "import random"
   ]
  },
  {
   "cell_type": "code",
   "execution_count": 3,
   "metadata": {},
   "outputs": [],
   "source": [
    "from tensorflow.keras.layers import *\n",
    "from tensorflow.keras.models import Sequential\n",
    "from tensorflow.keras.utils import to_categorical\n",
    "from tensorflow.keras.callbacks import EarlyStopping\n",
    "from tensorflow.keras.utils import plot_model\n",
    "import matplotlib.pyplot as plt"
   ]
  },
  {
   "cell_type": "code",
   "execution_count": 4,
   "metadata": {},
   "outputs": [],
   "source": [
    "import moviepy.editor as mp"
   ]
  },
  {
   "cell_type": "code",
   "execution_count": 5,
   "metadata": {},
   "outputs": [],
   "source": [
    "seed_constant = 15\n",
    "np.random.seed(seed_constant)\n",
    "random.seed(seed_constant)\n",
    "tf.random.set_seed(seed_constant)"
   ]
  },
  {
   "cell_type": "code",
   "execution_count": 6,
   "metadata": {},
   "outputs": [],
   "source": [
    "image_height, image_width = 64, 64\n",
    "max_images_per_class = 8000\n",
    " \n",
    "dataset_directory = \"dataset\"\n",
    "\n",
    "classes_list = [\"Abuse\",\"Arrest\",\"Arson\",\"Assault\"]\n",
    "\n",
    " \n",
    "model_output_size = len(classes_list)"
   ]
  },
  {
   "cell_type": "code",
   "execution_count": 7,
   "metadata": {},
   "outputs": [
    {
     "data": {
      "text/plain": [
       "4"
      ]
     },
     "execution_count": 7,
     "metadata": {},
     "output_type": "execute_result"
    }
   ],
   "source": [
    "model_output_size"
   ]
  },
  {
   "cell_type": "code",
   "execution_count": 8,
   "metadata": {},
   "outputs": [],
   "source": [
    "def frames_extraction(video_path):\n",
    "    # Empty List declared to store video frames\n",
    "    frames_list = []\n",
    "     \n",
    "    # Reading the Video File Using the VideoCapture\n",
    "    video_reader = cv2.VideoCapture(video_path)\n",
    " \n",
    "    # Iterating through Video Frames\n",
    "    while True:\n",
    " \n",
    "        # Reading a frame from the video file \n",
    "        success, frame = video_reader.read() \n",
    " \n",
    "        # If Video frame was not successfully read then break the loop\n",
    "        if not success:\n",
    "            break\n",
    " \n",
    "        # Resize the Frame to fixed Dimensions\n",
    "        resized_frame = cv2.resize(frame, (image_height, image_width))\n",
    "        # print(video_path)\n",
    "         \n",
    "        # Normalize the resized frame by dividing it with 255 so that each pixel value then lies between 0 and 1\n",
    "        normalized_frame = resized_frame / 255\n",
    "         \n",
    "        # Appending the normalized frame into the frames list\n",
    "        frames_list.append(normalized_frame)\n",
    "     \n",
    "    # Closing the VideoCapture object and releasing all resources. \n",
    "    video_reader.release()\n",
    " \n",
    "    # returning the frames list \n",
    "    return frames_list"
   ]
  },
  {
   "cell_type": "code",
   "execution_count": 12,
   "metadata": {},
   "outputs": [],
   "source": [
    "def create_dataset():\n",
    " \n",
    "    # Declaring Empty Lists to store the features and labels values.\n",
    "    temp_features = [] \n",
    "    features = []\n",
    "    \n",
    "    labels = []\n",
    "    dataset_directory = \"C:\\\\Users\\\\ryzen\\\\Downloads\\\\Anomaly-Videos-Part-1\\\\Anomaly-Videos-Part-1\"\n",
    "     \n",
    "    # Iterating through all the classes mentioned in the classes list\n",
    "    for class_index, class_name in enumerate(classes_list):\n",
    "        print(f'Extracting Data of Class: {class_name}')\n",
    "         \n",
    "        # Getting the list of video files present in the specific class name directory\n",
    "        files_list = os.listdir(os.path.join(dataset_directory, class_name))\n",
    " \n",
    "        # Iterating through all the files present in the files list\n",
    "        for file_name in files_list:\n",
    " \n",
    "            # Construct the complete video path\n",
    "            video_file_path = os.path.join(dataset_directory, class_name, file_name)\n",
    "            \n",
    " \n",
    "            # Calling the frame_extraction method for every video file path\n",
    "#             resize(video_file_path)\n",
    "            frames = frames_extraction(video_file_path)\n",
    "            print(video_file_path)\n",
    " \n",
    "            # Appending the frames to a temporary list.\n",
    "            temp_features.extend(frames)\n",
    "         \n",
    "        # Adding randomly selected frames to the features list\n",
    "        features.extend(random.sample(temp_features, max_images_per_class))\n",
    " \n",
    "        # Adding Fixed number of labels to the labels list\n",
    "        labels.extend([class_index] * max_images_per_class)\n",
    "         \n",
    "        # Emptying the temp_features list so it can be reused to store all frames of the next class.\n",
    "        temp_features.clear()\n",
    " \n",
    "    # Converting the features and labels lists to numpy arrays\n",
    "    # features = np.asarray(features)\n",
    "    # labels = np.array(labels)  \n",
    "    # a = np.asarray(features)\n",
    "    np.save(\"features.npy\",features)\n",
    "    # b = np.asarray(labels)\n",
    "    np.save(\"labels.npy\",labels)\n",
    " \n",
    "    # return features, labels"
   ]
  },
  {
   "cell_type": "code",
   "execution_count": 13,
   "metadata": {},
   "outputs": [
    {
     "name": "stdout",
     "output_type": "stream",
     "text": [
      "Extracting Data of Class: Abuse\n",
      "C:\\Users\\ryzen\\Downloads\\Anomaly-Videos-Part-1\\Anomaly-Videos-Part-1\\Abuse\\Abuse001_x264.mp4\n",
      "C:\\Users\\ryzen\\Downloads\\Anomaly-Videos-Part-1\\Anomaly-Videos-Part-1\\Abuse\\Abuse002_x264.mp4\n",
      "C:\\Users\\ryzen\\Downloads\\Anomaly-Videos-Part-1\\Anomaly-Videos-Part-1\\Abuse\\Abuse003_x264.mp4\n",
      "C:\\Users\\ryzen\\Downloads\\Anomaly-Videos-Part-1\\Anomaly-Videos-Part-1\\Abuse\\Abuse004_x264.mp4\n",
      "C:\\Users\\ryzen\\Downloads\\Anomaly-Videos-Part-1\\Anomaly-Videos-Part-1\\Abuse\\Abuse005_x264.mp4\n",
      "C:\\Users\\ryzen\\Downloads\\Anomaly-Videos-Part-1\\Anomaly-Videos-Part-1\\Abuse\\Abuse006_x264.mp4\n",
      "C:\\Users\\ryzen\\Downloads\\Anomaly-Videos-Part-1\\Anomaly-Videos-Part-1\\Abuse\\Abuse007_x264.mp4\n",
      "C:\\Users\\ryzen\\Downloads\\Anomaly-Videos-Part-1\\Anomaly-Videos-Part-1\\Abuse\\Abuse008_x264.mp4\n",
      "C:\\Users\\ryzen\\Downloads\\Anomaly-Videos-Part-1\\Anomaly-Videos-Part-1\\Abuse\\Abuse009_x264.mp4\n",
      "C:\\Users\\ryzen\\Downloads\\Anomaly-Videos-Part-1\\Anomaly-Videos-Part-1\\Abuse\\Abuse010_x264.mp4\n",
      "C:\\Users\\ryzen\\Downloads\\Anomaly-Videos-Part-1\\Anomaly-Videos-Part-1\\Abuse\\Abuse011_x264.mp4\n",
      "C:\\Users\\ryzen\\Downloads\\Anomaly-Videos-Part-1\\Anomaly-Videos-Part-1\\Abuse\\Abuse012_x264.mp4\n",
      "C:\\Users\\ryzen\\Downloads\\Anomaly-Videos-Part-1\\Anomaly-Videos-Part-1\\Abuse\\Abuse013_x264.mp4\n",
      "C:\\Users\\ryzen\\Downloads\\Anomaly-Videos-Part-1\\Anomaly-Videos-Part-1\\Abuse\\Abuse014_x264.mp4\n",
      "C:\\Users\\ryzen\\Downloads\\Anomaly-Videos-Part-1\\Anomaly-Videos-Part-1\\Abuse\\Abuse015_x264.mp4\n",
      "C:\\Users\\ryzen\\Downloads\\Anomaly-Videos-Part-1\\Anomaly-Videos-Part-1\\Abuse\\Abuse016_x264.mp4\n",
      "C:\\Users\\ryzen\\Downloads\\Anomaly-Videos-Part-1\\Anomaly-Videos-Part-1\\Abuse\\Abuse017_x264.mp4\n",
      "C:\\Users\\ryzen\\Downloads\\Anomaly-Videos-Part-1\\Anomaly-Videos-Part-1\\Abuse\\Abuse018_x264.mp4\n",
      "C:\\Users\\ryzen\\Downloads\\Anomaly-Videos-Part-1\\Anomaly-Videos-Part-1\\Abuse\\Abuse019_x264.mp4\n",
      "C:\\Users\\ryzen\\Downloads\\Anomaly-Videos-Part-1\\Anomaly-Videos-Part-1\\Abuse\\Abuse020_x264.mp4\n",
      "C:\\Users\\ryzen\\Downloads\\Anomaly-Videos-Part-1\\Anomaly-Videos-Part-1\\Abuse\\Abuse021_x264.mp4\n",
      "C:\\Users\\ryzen\\Downloads\\Anomaly-Videos-Part-1\\Anomaly-Videos-Part-1\\Abuse\\Abuse022_x264.mp4\n",
      "C:\\Users\\ryzen\\Downloads\\Anomaly-Videos-Part-1\\Anomaly-Videos-Part-1\\Abuse\\Abuse023_x264.mp4\n",
      "C:\\Users\\ryzen\\Downloads\\Anomaly-Videos-Part-1\\Anomaly-Videos-Part-1\\Abuse\\Abuse024_x264.mp4\n",
      "C:\\Users\\ryzen\\Downloads\\Anomaly-Videos-Part-1\\Anomaly-Videos-Part-1\\Abuse\\Abuse025_x264.mp4\n",
      "C:\\Users\\ryzen\\Downloads\\Anomaly-Videos-Part-1\\Anomaly-Videos-Part-1\\Abuse\\Abuse026_x264.mp4\n",
      "C:\\Users\\ryzen\\Downloads\\Anomaly-Videos-Part-1\\Anomaly-Videos-Part-1\\Abuse\\Abuse027_x264.mp4\n",
      "C:\\Users\\ryzen\\Downloads\\Anomaly-Videos-Part-1\\Anomaly-Videos-Part-1\\Abuse\\Abuse028_x264.mp4\n",
      "C:\\Users\\ryzen\\Downloads\\Anomaly-Videos-Part-1\\Anomaly-Videos-Part-1\\Abuse\\Abuse029_x264.mp4\n",
      "C:\\Users\\ryzen\\Downloads\\Anomaly-Videos-Part-1\\Anomaly-Videos-Part-1\\Abuse\\Abuse030_x264.mp4\n",
      "C:\\Users\\ryzen\\Downloads\\Anomaly-Videos-Part-1\\Anomaly-Videos-Part-1\\Abuse\\Abuse031_x264.mp4\n",
      "C:\\Users\\ryzen\\Downloads\\Anomaly-Videos-Part-1\\Anomaly-Videos-Part-1\\Abuse\\Abuse032_x264.mp4\n",
      "C:\\Users\\ryzen\\Downloads\\Anomaly-Videos-Part-1\\Anomaly-Videos-Part-1\\Abuse\\Abuse033_x264.mp4\n",
      "C:\\Users\\ryzen\\Downloads\\Anomaly-Videos-Part-1\\Anomaly-Videos-Part-1\\Abuse\\Abuse034_x264.mp4\n",
      "C:\\Users\\ryzen\\Downloads\\Anomaly-Videos-Part-1\\Anomaly-Videos-Part-1\\Abuse\\Abuse035_x264.mp4\n",
      "C:\\Users\\ryzen\\Downloads\\Anomaly-Videos-Part-1\\Anomaly-Videos-Part-1\\Abuse\\Abuse036_x264.mp4\n",
      "C:\\Users\\ryzen\\Downloads\\Anomaly-Videos-Part-1\\Anomaly-Videos-Part-1\\Abuse\\Abuse037_x264.mp4\n",
      "C:\\Users\\ryzen\\Downloads\\Anomaly-Videos-Part-1\\Anomaly-Videos-Part-1\\Abuse\\Abuse038_x264.mp4\n",
      "C:\\Users\\ryzen\\Downloads\\Anomaly-Videos-Part-1\\Anomaly-Videos-Part-1\\Abuse\\Abuse039_x264.mp4\n",
      "C:\\Users\\ryzen\\Downloads\\Anomaly-Videos-Part-1\\Anomaly-Videos-Part-1\\Abuse\\Abuse040_x264.mp4\n",
      "C:\\Users\\ryzen\\Downloads\\Anomaly-Videos-Part-1\\Anomaly-Videos-Part-1\\Abuse\\Abuse041_x264.mp4\n",
      "C:\\Users\\ryzen\\Downloads\\Anomaly-Videos-Part-1\\Anomaly-Videos-Part-1\\Abuse\\Abuse042_x264.mp4\n",
      "C:\\Users\\ryzen\\Downloads\\Anomaly-Videos-Part-1\\Anomaly-Videos-Part-1\\Abuse\\Abuse043_x264.mp4\n",
      "C:\\Users\\ryzen\\Downloads\\Anomaly-Videos-Part-1\\Anomaly-Videos-Part-1\\Abuse\\Abuse044_x264.mp4\n",
      "C:\\Users\\ryzen\\Downloads\\Anomaly-Videos-Part-1\\Anomaly-Videos-Part-1\\Abuse\\Abuse045_x264.mp4\n",
      "C:\\Users\\ryzen\\Downloads\\Anomaly-Videos-Part-1\\Anomaly-Videos-Part-1\\Abuse\\Abuse046_x264.mp4\n",
      "C:\\Users\\ryzen\\Downloads\\Anomaly-Videos-Part-1\\Anomaly-Videos-Part-1\\Abuse\\Abuse047_x264.mp4\n",
      "C:\\Users\\ryzen\\Downloads\\Anomaly-Videos-Part-1\\Anomaly-Videos-Part-1\\Abuse\\Abuse048_x264.mp4\n",
      "C:\\Users\\ryzen\\Downloads\\Anomaly-Videos-Part-1\\Anomaly-Videos-Part-1\\Abuse\\Abuse049_x264.mp4\n",
      "C:\\Users\\ryzen\\Downloads\\Anomaly-Videos-Part-1\\Anomaly-Videos-Part-1\\Abuse\\Abuse050_x264.mp4\n",
      "Extracting Data of Class: Arrest\n",
      "C:\\Users\\ryzen\\Downloads\\Anomaly-Videos-Part-1\\Anomaly-Videos-Part-1\\Arrest\\Arrest001_x264.mp4\n",
      "C:\\Users\\ryzen\\Downloads\\Anomaly-Videos-Part-1\\Anomaly-Videos-Part-1\\Arrest\\Arrest002_x264.mp4\n",
      "C:\\Users\\ryzen\\Downloads\\Anomaly-Videos-Part-1\\Anomaly-Videos-Part-1\\Arrest\\Arrest003_x264.mp4\n",
      "C:\\Users\\ryzen\\Downloads\\Anomaly-Videos-Part-1\\Anomaly-Videos-Part-1\\Arrest\\Arrest004_x264.mp4\n",
      "C:\\Users\\ryzen\\Downloads\\Anomaly-Videos-Part-1\\Anomaly-Videos-Part-1\\Arrest\\Arrest005_x264.mp4\n",
      "C:\\Users\\ryzen\\Downloads\\Anomaly-Videos-Part-1\\Anomaly-Videos-Part-1\\Arrest\\Arrest006_x264.mp4\n",
      "C:\\Users\\ryzen\\Downloads\\Anomaly-Videos-Part-1\\Anomaly-Videos-Part-1\\Arrest\\Arrest007_x264.mp4\n",
      "C:\\Users\\ryzen\\Downloads\\Anomaly-Videos-Part-1\\Anomaly-Videos-Part-1\\Arrest\\Arrest008_x264.mp4\n",
      "C:\\Users\\ryzen\\Downloads\\Anomaly-Videos-Part-1\\Anomaly-Videos-Part-1\\Arrest\\Arrest009_x264.mp4\n",
      "C:\\Users\\ryzen\\Downloads\\Anomaly-Videos-Part-1\\Anomaly-Videos-Part-1\\Arrest\\Arrest010_x264.mp4\n",
      "C:\\Users\\ryzen\\Downloads\\Anomaly-Videos-Part-1\\Anomaly-Videos-Part-1\\Arrest\\Arrest011_x264.mp4\n",
      "C:\\Users\\ryzen\\Downloads\\Anomaly-Videos-Part-1\\Anomaly-Videos-Part-1\\Arrest\\Arrest012_x264.mp4\n",
      "C:\\Users\\ryzen\\Downloads\\Anomaly-Videos-Part-1\\Anomaly-Videos-Part-1\\Arrest\\Arrest013_x264.mp4\n",
      "C:\\Users\\ryzen\\Downloads\\Anomaly-Videos-Part-1\\Anomaly-Videos-Part-1\\Arrest\\Arrest014_x264.mp4\n",
      "C:\\Users\\ryzen\\Downloads\\Anomaly-Videos-Part-1\\Anomaly-Videos-Part-1\\Arrest\\Arrest015_x264.mp4\n",
      "C:\\Users\\ryzen\\Downloads\\Anomaly-Videos-Part-1\\Anomaly-Videos-Part-1\\Arrest\\Arrest016_x264.mp4\n",
      "C:\\Users\\ryzen\\Downloads\\Anomaly-Videos-Part-1\\Anomaly-Videos-Part-1\\Arrest\\Arrest017_x264.mp4\n",
      "C:\\Users\\ryzen\\Downloads\\Anomaly-Videos-Part-1\\Anomaly-Videos-Part-1\\Arrest\\Arrest018_x264.mp4\n",
      "C:\\Users\\ryzen\\Downloads\\Anomaly-Videos-Part-1\\Anomaly-Videos-Part-1\\Arrest\\Arrest019_x264.mp4\n",
      "C:\\Users\\ryzen\\Downloads\\Anomaly-Videos-Part-1\\Anomaly-Videos-Part-1\\Arrest\\Arrest020_x264.mp4\n",
      "C:\\Users\\ryzen\\Downloads\\Anomaly-Videos-Part-1\\Anomaly-Videos-Part-1\\Arrest\\Arrest021_x264.mp4\n",
      "C:\\Users\\ryzen\\Downloads\\Anomaly-Videos-Part-1\\Anomaly-Videos-Part-1\\Arrest\\Arrest022_x264.mp4\n",
      "C:\\Users\\ryzen\\Downloads\\Anomaly-Videos-Part-1\\Anomaly-Videos-Part-1\\Arrest\\Arrest023_x264.mp4\n",
      "C:\\Users\\ryzen\\Downloads\\Anomaly-Videos-Part-1\\Anomaly-Videos-Part-1\\Arrest\\Arrest024_x264.mp4\n",
      "C:\\Users\\ryzen\\Downloads\\Anomaly-Videos-Part-1\\Anomaly-Videos-Part-1\\Arrest\\Arrest025_x264.mp4\n",
      "C:\\Users\\ryzen\\Downloads\\Anomaly-Videos-Part-1\\Anomaly-Videos-Part-1\\Arrest\\Arrest026_x264.mp4\n",
      "C:\\Users\\ryzen\\Downloads\\Anomaly-Videos-Part-1\\Anomaly-Videos-Part-1\\Arrest\\Arrest027_x264.mp4\n",
      "C:\\Users\\ryzen\\Downloads\\Anomaly-Videos-Part-1\\Anomaly-Videos-Part-1\\Arrest\\Arrest028_x264.mp4\n",
      "C:\\Users\\ryzen\\Downloads\\Anomaly-Videos-Part-1\\Anomaly-Videos-Part-1\\Arrest\\Arrest029_x264.mp4\n",
      "C:\\Users\\ryzen\\Downloads\\Anomaly-Videos-Part-1\\Anomaly-Videos-Part-1\\Arrest\\Arrest030_x264.mp4\n",
      "C:\\Users\\ryzen\\Downloads\\Anomaly-Videos-Part-1\\Anomaly-Videos-Part-1\\Arrest\\Arrest031_x264.mp4\n",
      "C:\\Users\\ryzen\\Downloads\\Anomaly-Videos-Part-1\\Anomaly-Videos-Part-1\\Arrest\\Arrest032_x264.mp4\n",
      "C:\\Users\\ryzen\\Downloads\\Anomaly-Videos-Part-1\\Anomaly-Videos-Part-1\\Arrest\\Arrest033_x264.mp4\n",
      "C:\\Users\\ryzen\\Downloads\\Anomaly-Videos-Part-1\\Anomaly-Videos-Part-1\\Arrest\\Arrest034_x264.mp4\n",
      "C:\\Users\\ryzen\\Downloads\\Anomaly-Videos-Part-1\\Anomaly-Videos-Part-1\\Arrest\\Arrest035_x264.mp4\n",
      "C:\\Users\\ryzen\\Downloads\\Anomaly-Videos-Part-1\\Anomaly-Videos-Part-1\\Arrest\\Arrest036_x264.mp4\n",
      "C:\\Users\\ryzen\\Downloads\\Anomaly-Videos-Part-1\\Anomaly-Videos-Part-1\\Arrest\\Arrest037_x264.mp4\n",
      "C:\\Users\\ryzen\\Downloads\\Anomaly-Videos-Part-1\\Anomaly-Videos-Part-1\\Arrest\\Arrest038_x264.mp4\n",
      "C:\\Users\\ryzen\\Downloads\\Anomaly-Videos-Part-1\\Anomaly-Videos-Part-1\\Arrest\\Arrest039_x264.mp4\n",
      "C:\\Users\\ryzen\\Downloads\\Anomaly-Videos-Part-1\\Anomaly-Videos-Part-1\\Arrest\\Arrest040_x264.mp4\n",
      "C:\\Users\\ryzen\\Downloads\\Anomaly-Videos-Part-1\\Anomaly-Videos-Part-1\\Arrest\\Arrest041_x264.mp4\n",
      "C:\\Users\\ryzen\\Downloads\\Anomaly-Videos-Part-1\\Anomaly-Videos-Part-1\\Arrest\\Arrest042_x264.mp4\n",
      "C:\\Users\\ryzen\\Downloads\\Anomaly-Videos-Part-1\\Anomaly-Videos-Part-1\\Arrest\\Arrest043_x264.mp4\n",
      "C:\\Users\\ryzen\\Downloads\\Anomaly-Videos-Part-1\\Anomaly-Videos-Part-1\\Arrest\\Arrest044_x264.mp4\n",
      "C:\\Users\\ryzen\\Downloads\\Anomaly-Videos-Part-1\\Anomaly-Videos-Part-1\\Arrest\\Arrest046_x264.mp4\n",
      "C:\\Users\\ryzen\\Downloads\\Anomaly-Videos-Part-1\\Anomaly-Videos-Part-1\\Arrest\\Arrest047_x264.mp4\n",
      "C:\\Users\\ryzen\\Downloads\\Anomaly-Videos-Part-1\\Anomaly-Videos-Part-1\\Arrest\\Arrest048_x264.mp4\n"
     ]
    }
   ],
   "source": [
    "# features, labels = create_dataset()\n",
    "create_dataset()"
   ]
  }
 ],
 "metadata": {
  "kernelspec": {
   "display_name": "base",
   "language": "python",
   "name": "python3"
  },
  "language_info": {
   "codemirror_mode": {
    "name": "ipython",
    "version": 3
   },
   "file_extension": ".py",
   "mimetype": "text/x-python",
   "name": "python",
   "nbconvert_exporter": "python",
   "pygments_lexer": "ipython3",
   "version": "3.11.5"
  }
 },
 "nbformat": 4,
 "nbformat_minor": 2
}
